{
 "cells": [
  {
   "cell_type": "code",
   "execution_count": 1,
   "metadata": {},
   "outputs": [
    {
     "name": "stdout",
     "output_type": "stream",
     "text": [
      "Approximate gradient: 2.0635\n",
      "Actual gradient: 2.0635\n"
     ]
    }
   ],
   "source": [
    "import numpy as np\n",
    "from GPy.kern import Multidimensional_Integral_Limits as Intkern\n",
    "X = 1.0*np.array([[2,1,4,3],[3,2,6,4],[4,3,2,0]])\n",
    "k = Intkern(4,lengthscale=[1.5,2.4],variances=1.0)\n",
    "k.update_gradients_full(np.ones([X.shape[0],X.shape[0]]),X)\n",
    "oldK = k.K(X)\n",
    "delta = 0.0001\n",
    "k.lengthscale[1]+=delta\n",
    "\n",
    "newK = k.K(X)\n",
    "approx_grad = np.sum((newK-oldK)/delta)\n",
    "print(\"Approximate gradient: %0.4f\" % approx_grad)\n",
    "print(\"Actual gradient: %0.4f\" % k.lengthscale.gradient[1])"
   ]
  },
  {
   "cell_type": "code",
   "execution_count": 10,
   "metadata": {},
   "outputs": [
    {
     "name": "stdout",
     "output_type": "stream",
     "text": [
      "Approximate gradient: 1.3010817\n",
      "Actual gradient: 1.3010874\n"
     ]
    }
   ],
   "source": [
    "import numpy as np\n",
    "from mix_integral import Mix_Integral\n",
    "\n",
    "X = 1.0*np.array([[2,1,4,3,5,2,0],[3,np.NAN,6,np.NAN,1,np.NAN,1],[1,np.NAN,2,np.NAN,3,np.NAN,1],[4,3,2,0,9,8,0]])\n",
    "#X = 1.0*np.array([[2,1,4,3,0],[3,np.NAN,6,np.NAN,1],[4,3,2,0,0]])\n",
    "#X = 1.0*np.array([[2,1,4,3,0],[9,np.NAN,5,np.NAN,1],[3,np.NAN,6,np.NAN,1],[4,3,2,0,0]])\n",
    "#X = 1.0*np.array([[0,np.NAN,1],[3,0,0]])\n",
    "#X = 1.0*np.array([[0,np.NAN,2,np.NAN,1],[3,np.NAN,5,np.NAN,1]])\n",
    "mk = Mix_Integral(7,lengthscale=[1.5,2.6,1.1],variances=1.5)\n",
    "mk.update_gradients_full(np.ones([X.shape[0],X.shape[0]]),X)\n",
    "oldK = mk.K(X)\n",
    "delta = 0.00001\n",
    "mk.lengthscale[1]+=delta\n",
    "newK = mk.K(X)\n",
    "approx_grad = np.sum((newK-oldK)/delta)\n",
    "print(\"Approximate gradient: %0.7f\" % approx_grad)\n",
    "print(\"Actual gradient: %0.7f\" % mk.lengthscale.gradient[1])"
   ]
  },
  {
   "cell_type": "code",
   "execution_count": 9,
   "metadata": {},
   "outputs": [
    {
     "name": "stdout",
     "output_type": "stream",
     "text": [
      "Approximate gradient: 11.4476567\n",
      "Actual gradient: 11.4476567\n"
     ]
    }
   ],
   "source": [
    "import numpy as np\n",
    "from mix_integral import Mix_Integral\n",
    "\n",
    "X = 1.0*np.array([[2,1,4,3,5,2,0],[3,np.NAN,6,np.NAN,1,np.NAN,1],[1,np.NAN,2,np.NAN,3,np.NAN,1],[4,3,2,0,9,8,0]])\n",
    "#X = 1.0*np.array([[2,1,4,3,0],[3,np.NAN,6,np.NAN,1],[4,3,2,0,0]])\n",
    "#X = 1.0*np.array([[2,1,4,3,0],[9,np.NAN,5,np.NAN,1],[3,np.NAN,6,np.NAN,1],[4,3,2,0,0]])\n",
    "#X = 1.0*np.array([[0,np.NAN,1],[3,0,0]])\n",
    "#X = 1.0*np.array([[0,np.NAN,2,np.NAN,1],[3,np.NAN,5,np.NAN,1]])\n",
    "mk = Mix_Integral(7,lengthscale=[1.5,2.6,1.1],variances=1.5)\n",
    "mk.update_gradients_full(np.ones([X.shape[0],X.shape[0]]),X)\n",
    "oldK = mk.K(X)\n",
    "delta = 0.00001\n",
    "mk.variances+=delta\n",
    "newK = mk.K(X)\n",
    "approx_grad = np.sum((newK-oldK)/delta)\n",
    "print(\"Approximate gradient: %0.7f\" % approx_grad)\n",
    "print(\"Actual gradient: %0.7f\" % mk.variances.gradient)"
   ]
  },
  {
   "cell_type": "code",
   "execution_count": 3,
   "metadata": {},
   "outputs": [
    {
     "data": {
      "text/plain": [
       "array([[2., 1., 4., 3., 5., 2., 0.]])"
      ]
     },
     "execution_count": 3,
     "metadata": {},
     "output_type": "execute_result"
    }
   ],
   "source": [
    "X"
   ]
  },
  {
   "cell_type": "code",
   "execution_count": 4,
   "metadata": {},
   "outputs": [
    {
     "data": {
      "text/plain": [
       "array([[6.332]])"
      ]
     },
     "execution_count": 4,
     "metadata": {},
     "output_type": "execute_result"
    }
   ],
   "source": [
    "np.set_printoptions(suppress=True,precision=3)\n",
    "newK"
   ]
  },
  {
   "cell_type": "code",
   "execution_count": 5,
   "metadata": {},
   "outputs": [
    {
     "name": "stdout",
     "output_type": "stream",
     "text": [
      "4.00001\n",
      "4.0\n"
     ]
    },
    {
     "data": {
      "text/plain": [
       "0.09734979365960682"
      ]
     },
     "execution_count": 5,
     "metadata": {},
     "output_type": "execute_result"
    }
   ],
   "source": [
    "delta = 0.00001\n",
    "(mk.k_ff(1.0,3.0,4.0+delta)-mk.k_ff(1.0,3.0,4.0))/delta"
   ]
  },
  {
   "cell_type": "code",
   "execution_count": 8,
   "metadata": {},
   "outputs": [
    {
     "name": "stdout",
     "output_type": "stream",
     "text": [
      "1-1 1.0 3.0\n",
      "-2.0\n",
      "4.0\n",
      "0.09735009788392561\n"
     ]
    },
    {
     "data": {
      "text/plain": [
       "0.09735009788392561"
      ]
     },
     "execution_count": 8,
     "metadata": {},
     "output_type": "execute_result"
    }
   ],
   "source": [
    "mk.dk_dl(1,1,1.0,3.0,np.NaN,np.NaN,4.0)"
   ]
  },
  {
   "cell_type": "code",
   "execution_count": 9,
   "metadata": {},
   "outputs": [
    {
     "data": {
      "text/plain": [
       "0.7788007830714049"
      ]
     },
     "execution_count": 9,
     "metadata": {},
     "output_type": "execute_result"
    }
   ],
   "source": [
    "mk.k_ff(1.0,3.0,4.0)"
   ]
  },
  {
   "cell_type": "code",
   "execution_count": 10,
   "metadata": {},
   "outputs": [
    {
     "data": {
      "text/plain": [
       "0.7788007830714049"
      ]
     },
     "execution_count": 10,
     "metadata": {},
     "output_type": "execute_result"
    }
   ],
   "source": [
    "np.exp(-(2/4)**2)"
   ]
  },
  {
   "cell_type": "code",
   "execution_count": 11,
   "metadata": {},
   "outputs": [
    {
     "data": {
      "text/plain": [
       "0.09735009788392561"
      ]
     },
     "execution_count": 11,
     "metadata": {},
     "output_type": "execute_result"
    }
   ],
   "source": [
    "(2*(2**2)/(4**3))*np.exp(-(2/4)**2)"
   ]
  },
  {
   "cell_type": "code",
   "execution_count": null,
   "metadata": {},
   "outputs": [],
   "source": []
  }
 ],
 "metadata": {
  "kernelspec": {
   "display_name": "Python 3",
   "language": "python",
   "name": "python3"
  },
  "language_info": {
   "codemirror_mode": {
    "name": "ipython",
    "version": 3
   },
   "file_extension": ".py",
   "mimetype": "text/x-python",
   "name": "python",
   "nbconvert_exporter": "python",
   "pygments_lexer": "ipython3",
   "version": "3.6.8"
  }
 },
 "nbformat": 4,
 "nbformat_minor": 2
}
