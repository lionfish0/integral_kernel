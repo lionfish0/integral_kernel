{
 "cells": [
  {
   "cell_type": "code",
   "execution_count": 1,
   "metadata": {},
   "outputs": [
    {
     "name": "stdout",
     "output_type": "stream",
     "text": [
      "107.94000800000289\n",
      "108.0\n",
      "23.99200000000001\n",
      "24.0\n"
     ]
    }
   ],
   "source": [
    "import numpy as np\n",
    "def k(x,xprime,sigs=2.0):\n",
    "    return sigs*x*xprime\n",
    "\n",
    "def K(s,t,sprime,tprime,sigs=2.0):\n",
    "    return sigs*((tprime**2 - sprime**2)*(t**2 - s**2))/4\n",
    "    #return indefK(tprime,t,l)-indefK(sprime,t,l)-indefK(tprime,s,l)+indefK(sprime,s,l)\n",
    "    \n",
    "def Kcross(s,t,sprime,sigs=2.0):\n",
    "    return sigs*(sprime)*(t**2/2 - s**2/2)\n",
    "\n",
    "step = 0.002\n",
    "v = u= 0\n",
    "s,t = 1,5\n",
    "xlatent = 1\n",
    "sprime,tprime = 4,5\n",
    "for x in np.arange(s,t,step):\n",
    "    u+=k(x,xlatent)\n",
    "    for xprime in np.arange(sprime,tprime,step):\n",
    "        v+=k(x,xprime)\n",
    "print(v*step**2)\n",
    "print(K(s,t,sprime,tprime))\n",
    "print(u*step)\n",
    "print(Kcross(s,t,xlatent))"
   ]
  },
  {
   "cell_type": "code",
   "execution_count": 2,
   "metadata": {},
   "outputs": [
    {
     "name": "stdout",
     "output_type": "stream",
     "text": [
      "11.01477915657724\n",
      "-27.49955561681196\n",
      "1.2993414825105165\n",
      "1.295765705726737\n"
     ]
    }
   ],
   "source": [
    "import numpy as np\n",
    "def k(x,xprime,l=2.0):\n",
    "    r = np.abs(x-xprime)\n",
    "    return (1+np.sqrt(3)*r/l)*np.exp(-np.sqrt(3)*r/l)\n",
    "\n",
    "def indefK(x,xprime,l=2.0):\n",
    "    return -(l**2 + l*(x-xprime)/np.sqrt(3))*np.exp(-np.sqrt(3)*(x-xprime)/l)\n",
    "\n",
    "def Kdj(s,t,sprime,tprime,l=2.0):\n",
    "    if sprime>s:\n",
    "        sprime,s = s,sprime\n",
    "        tprime,t = t,tprime\n",
    "    return indefK(t,tprime,l)-indefK(s,tprime,l)-indefK(t,sprime,l)+indefK(s,sprime,l)\n",
    "    #return indefK(tprime,t,l)-indefK(sprime,t,l)-indefK(tprime,s,l)+indefK(sprime,s,l)\n",
    "\n",
    "def Kol(s,t,l=2.0):\n",
    "    return indefK(t,tprime,l)-indefK(s,tprime,l)-indefK(t,sprime,l)+indefK(s,sprime,l)\n",
    "\n",
    "\n",
    "def indefKcross(x,xprime,l=2.0):\n",
    "    return -(2*l/np.sqrt(3) + (x-xprime))*np.exp(-np.sqrt(3)*(x-xprime)/l)\n",
    "\n",
    "def Kcross(s,t,sprime,l=2.0):\n",
    "    return indefKcross(t,sprime,l)-indefKcross(s,sprime,l)\n",
    "\n",
    "step = 0.01\n",
    "v = u= 0\n",
    "s,t = 1,5\n",
    "xlatent = 0\n",
    "sprime,tprime = 1,5\n",
    "for x in np.arange(s,t,step):\n",
    "    u+=k(x,xlatent)\n",
    "    for xprime in np.arange(sprime,tprime,step):\n",
    "        v+=k(x,xprime)\n",
    "print(v*step**2)\n",
    "print(Kdj(s,t,sprime,tprime))\n",
    "print(u*step)\n",
    "print(Kcross(s,t,xlatent))"
   ]
  },
  {
   "cell_type": "code",
   "execution_count": 3,
   "metadata": {},
   "outputs": [
    {
     "data": {
      "text/plain": [
       "7.460443795514186"
      ]
     },
     "execution_count": 3,
     "metadata": {},
     "output_type": "execute_result"
    }
   ],
   "source": [
    "2*(indefK(t,s)-indefK(s,s))"
   ]
  },
  {
   "cell_type": "code",
   "execution_count": 30,
   "metadata": {},
   "outputs": [],
   "source": [
    "import GPy\n",
    "import matplotlib.pyplot as plt\n",
    "%matplotlib inline\n",
    "import numpy as np\n",
    "from mix_integral_linear import Mix_Integral_Linear\n",
    "from scipy.stats import norm"
   ]
  },
  {
   "cell_type": "code",
   "execution_count": 37,
   "metadata": {},
   "outputs": [],
   "source": [
    "#X = 2.0*np.array([[1,0],[2,1],[3,2],[4,3],[10,9],[11,10],[12,11],[13,12]])\n",
    "X = 2.0*np.array([[1,0],[2,1],[3,2],[4,3],[10,9],[11,10],[12,11],[13,12]])\n",
    "X = np.c_[X,np.zeros([len(X),1])]\n",
    "#X[:,1]+=1\n",
    "\n",
    "#X = np.linspace(0,20,8)[:,None]\n",
    "#X = np.c_[X,np.zeros([len(X),1])]\n",
    "#X = np.c_[X,np.ones([len(X),1])]\n",
    "\n",
    "Y = 10.0*np.array([[7,6,4,1,1,4,6,7]]).T\n",
    "Y+=np.random.randn(len(Y),1)*0.1\n",
    "\n",
    "X = 1.0*np.array([[8,0,0],[3.5,2.5,0],[6,4,0],[8,7,0]])\n",
    "Y = 1.0*np.array([[32,3,10,7.5]]).T\n",
    "Y+=np.random.randn(len(Y),1)*1.0\n",
    "Y = np.array([[33.4656796 ],\n",
    "       [ 3.49364358],\n",
    "       [ 9.56898672],\n",
    "       [ 8.272576  ]])\n",
    "kernel = Mix_Integral_Linear(3,variances=500.0)\n",
    "m = GPy.models.GPRegression(X,Y,kernel)\n",
    "testX = np.linspace(-5,30,500)[:,None]\n",
    "testX = np.c_[testX,np.zeros([len(testX),1]),np.ones([len(testX),1])]\n",
    "mu,var = m.predict_noiseless(testX)"
   ]
  },
  {
   "cell_type": "code",
   "execution_count": 38,
   "metadata": {},
   "outputs": [
    {
     "name": "stdout",
     "output_type": "stream",
     "text": [
      "403.8757499999971\n",
      "405.0\n",
      "0.0\n",
      "0.0\n"
     ]
    }
   ],
   "source": [
    "step = 0.01\n",
    "v = u= 0\n",
    "s,t = 2,7\n",
    "xlatent = 0\n",
    "l = 2.0\n",
    "sprime,tprime = 0,6\n",
    "for x in np.arange(s,t,step):\n",
    "    u+=kernel.k_ff(x,xlatent)\n",
    "    for xprime in np.arange(sprime,tprime,step):\n",
    "        v+=kernel.k_ff(x,xprime)\n",
    "print(v*step**2)\n",
    "print(kernel.k_xx(t,tprime,s,sprime))\n",
    "print(u*step)\n",
    "#print(kernel.k_xf(s,t,xlatent,l))\n",
    "\n",
    "print(kernel.k_xf(t,xlatent,s))"
   ]
  },
  {
   "cell_type": "code",
   "execution_count": 39,
   "metadata": {},
   "outputs": [
    {
     "data": {
      "image/png": "[encoded data removed]",
      "text/plain": [
       "<Figure size 432x288 with 1 Axes>"
      ]
     },
     "metadata": {},
     "output_type": "display_data"
    }
   ],
   "source": [
    "plt.plot(testX[:,0],mu,'b-')\n",
    "plt.plot(testX[:,0],mu+np.sqrt(var)*1.96,'b--')\n",
    "plt.plot(testX[:,0],mu-np.sqrt(var)*1.96,'b--')\n",
    "for x,y in zip(X,Y):\n",
    "    if x[-1]==0:\n",
    "        \n",
    "        plt.plot([x[0],x[1],x[1],x[0],x[0]],[0,0,y/np.abs(x[1]-x[0]),y/np.abs(x[1]-x[0]),0],'k-')\n",
    "    else:\n",
    "        plt.plot([x[0],x[0]],[-1,-2],'r-')\n",
    "mu,K = m.predict_noiseless(testX,full_cov=True)        \n",
    "sample = np.random.multivariate_normal(mu[:,0],K,size=100)        \n",
    "plt.plot(testX[:,0],sample.T,'b-',alpha=0.05);\n",
    "plt.plot(testX[:,0],sample[0:1,:].T,'r-',alpha=0.5);\n",
    "plt.xlim([0,10])\n",
    "plt.ylim([0,10])\n",
    "plt.xlabel('Time / s')\n",
    "plt.ylabel('Speed / $\\text{ms}^-1$')\n",
    "plt.savefig('linear_kernel_demo.pdf')"
   ]
  },
  {
   "cell_type": "code",
   "execution_count": 41,
   "metadata": {},
   "outputs": [
    {
     "data": {
      "text/plain": [
       "(array([[5.20964802]]), array([[0.02102162]]))"
      ]
     },
     "execution_count": 41,
     "metadata": {},
     "output_type": "execute_result"
    }
   ],
   "source": [
    "m.predict_noiseless(np.array([[5,np.nan,1]]))"
   ]
  },
  {
   "cell_type": "code",
   "execution_count": null,
   "metadata": {},
   "outputs": [],
   "source": []
  }
 ],
 "metadata": {
  "kernelspec": {
   "display_name": "Python 3",
   "language": "python",
   "name": "python3"
  },
  "language_info": {
   "codemirror_mode": {
    "name": "ipython",
    "version": 3
   },
   "file_extension": ".py",
   "mimetype": "text/x-python",
   "name": "python",
   "nbconvert_exporter": "python",
   "pygments_lexer": "ipython3",
   "version": "3.6.8"
  }
 },
 "nbformat": 4,
 "nbformat_minor": 2
}
