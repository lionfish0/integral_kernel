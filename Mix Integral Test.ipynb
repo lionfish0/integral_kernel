{
 "cells": [
  {
   "cell_type": "markdown",
   "metadata": {},
   "source": [
    "# Note!\n",
    "\n",
    "The mixed likelihood doesn't expose the hyperparameters of the likelihoods inside it - so these are fixed."
   ]
  },
  {
   "cell_type": "code",
   "execution_count": 4,
   "metadata": {},
   "outputs": [],
   "source": [
    "import GPy\n",
    "import matplotlib.pyplot as plt\n",
    "%matplotlib inline\n",
    "import numpy as np\n",
    "from mix_integral import Mix_Integral\n",
    "from mixed import Mixed\n",
    "from scipy.stats import norm\n",
    "#from squashed_probit import SquashedProbit\n",
    "from GPy.likelihoods.link_functions import Probit as OldProbit\n",
    "from shiftedprobit import ShiftedProbit"
   ]
  },
  {
   "cell_type": "code",
   "execution_count": 5,
   "metadata": {},
   "outputs": [],
   "source": [
    "def squash(fs,variance):\n",
    "    pb = GPy.likelihoods.link_functions.Probit()\n",
    "    squashed = []\n",
    "    grid = np.linspace(-100,100,15000)\n",
    "    #print(pb.transf(10.0))\n",
    "    for f in fs.flatten():\n",
    "        val=np.sum(grid*norm.pdf(f,grid,np.sqrt(variance))*pb.transf(grid*1.0))/np.sum(norm.pdf(f,grid,np.sqrt(variance)))\n",
    "        #val=np.sum(grid*norm.pdf(f,grid,np.sqrt(variance))*1)/np.sum(norm.pdf(f,grid,np.sqrt(variance)))\n",
    "        squashed.append(val)\n",
    "    return np.array(squashed).reshape(fs.shape)\n",
    "\n",
    "def run_demo(n_non_negs=0,xlim=[0,26],ylim=[-40,50],lengthscale=None):\n",
    "    X = 2.0*np.array([[1,0],[2,1],[3,2],[4,3],[10,9],[11,10],[12,11],[13,12]])\n",
    "    X = np.c_[X,np.zeros([len(X),1])]\n",
    "    Y = 10.0*np.array([[7,6,4,1,1,4,6,7]]).T\n",
    "    Y+=np.random.randn(len(Y),1)*0.1\n",
    "\n",
    "    fn_idx = np.zeros([len(X),1])\n",
    "    non_negs_X = np.linspace(0,26,n_non_negs)[:,None]\n",
    "    non_negs_X = np.c_[non_negs_X,np.zeros([len(non_negs_X),1]),np.ones([len(non_negs_X),1])]\n",
    "    non_negs_Y = np.ones([len(non_negs_X),1])\n",
    "    non_negs_fn_idx = np.ones_like(non_negs_Y)\n",
    "    X = np.r_[X,non_negs_X]\n",
    "    Y = np.r_[Y,non_negs_Y]\n",
    "    fn_idx = (np.r_[fn_idx,non_negs_fn_idx]).astype(int)\n",
    "    scaling = np.ones_like(fn_idx)/10\n",
    "    Y_metadata = {'likelihood_fn_index':fn_idx}#,'scaling':scaling}\n",
    "    \n",
    "\n",
    "\n",
    "    kernel = Mix_Integral(3,variances=250.0,lengthscale=[5.0])\n",
    "    likelihood_fns = [GPy.likelihoods.Gaussian(variance=1.0), GPy.likelihoods.Bernoulli(gp_link=ShiftedProbit(10,1))]\n",
    "\n",
    "   # print(X)\n",
    "   # print(Y)\n",
    "   # print(Y_metadata['likelihood_fn_index'])\n",
    "    \n",
    "    m = GPy.core.GP( \n",
    "        X, Y,        \n",
    "        kernel = kernel, \n",
    "        inference_method = GPy.inference.latent_function_inference.EP(),\n",
    "        likelihood = Mixed(likelihood_fns=likelihood_fns),\n",
    "        Y_metadata = Y_metadata,normalizer=False,\n",
    "    )\n",
    "\n",
    "    if lengthscale is not None:\n",
    "        m.kern.lengthscale.fix(lengthscale)\n",
    "    m.optimize(messages=True)\n",
    "    print(m)\n",
    "\n",
    "    testX = np.linspace(-5,30,500)[:,None]\n",
    "    testX = np.c_[testX,np.zeros([len(testX),1]),np.ones([len(testX),1])]\n",
    "    m.Y_metadata = None\n",
    "\n",
    "    mu,var = m.predict_noiseless(testX)\n",
    "    \n",
    "    mu,K = m.predict_noiseless(testX,full_cov=True)\n",
    "    sample = np.random.multivariate_normal(mu[:,0],K,size=100)\n",
    "    \n",
    "    \n",
    "    \n",
    "\n",
    "    if n_non_negs==0: #we assume we want a gaussian likelihood link\n",
    "        plt.plot(testX[:,0],mu,'b-')\n",
    "        plt.plot(testX[:,0],mu+np.sqrt(var)*1.96,'b--')\n",
    "        plt.plot(testX[:,0],mu-np.sqrt(var)*1.96,'b--')\n",
    "        #plt.plot(testX[:,0],mu+np.sqrt(var)*4,'b:',alpha=0.5)\n",
    "        #plt.plot(testX[:,0],mu-np.sqrt(var)*4,'b:',alpha=0.5)\n",
    "        plt.plot(testX[:,0],sample.T,'b-',alpha=0.05);\n",
    "    else:\n",
    "        variance = m.likelihood.likelihood_fns[0].variance[0]\n",
    "        plt.plot(testX[:,0],squash(mu[:,0],variance),'b-')\n",
    "        plt.plot(testX[:,0],squash((mu-np.sqrt(var)*1.96)[:,0],variance),'b--')\n",
    "        plt.plot(testX[:,0],squash((mu+np.sqrt(var)*1.96)[:,0],variance),'b--')\n",
    "        plt.plot(testX[:,0],squash(sample.T,variance),'b-',alpha=0.05);\n",
    "        #plt.plot(testX[:,0],squash((mu-np.sqrt(var)*4)[:,0],variance),'b:',alpha=0.5)\n",
    "        #plt.plot(testX[:,0],squash((mu+np.sqrt(var)*4)[:,0],variance),'b:',alpha=0.5)\n",
    "    \n",
    "    for x,y in zip(X,Y):\n",
    "        if x[-1]==0:\n",
    "            plt.plot([x[0],x[1],x[1],x[0],x[0]],[0,0,y/2,y/2,0],'k-')\n",
    "        else:\n",
    "            plt.plot([x[0],x[0]],[-1,-2],'r-')\n",
    "    plt.ylim(ylim)\n",
    "    plt.xlim(xlim)\n",
    "    plt.hlines(0,xlim[0],xlim[1],colors='k')\n",
    "    return m,X,Y"
   ]
  },
  {
   "cell_type": "code",
   "execution_count": 6,
   "metadata": {
    "scrolled": false
   },
   "outputs": [
    {
     "name": "stdout",
     "output_type": "stream",
     "text": [
      "Running L-BFGS-B (Scipy implementation) Code:\n",
      "  runtime   i      f              |g|        \n",
      "    00s16  0005   4.141915e+01   3.505856e-04 \n",
      "    00s18  0006   4.141821e+01   1.710037e-03 \n",
      "    01s07  0040   4.046807e+01   2.500438e-10 \n",
      "Runtime:     01s07\n",
      "Optimization status: Converged\n",
      "\n",
      "\n",
      "Name : gp\n",
      "Objective : 40.46806621255746\n",
      "Number of Parameters : 2\n",
      "Number of Optimization Parameters : 2\n",
      "Updates : True\n",
      "Parameters:\n",
      "  \u001b[1mgp.                     \u001b[0;0m  |              value  |  constraints  |  priors\n",
      "  \u001b[1mmix_integral.variances  \u001b[0;0m  |  531.5741854385699  |      +ve      |        \n",
      "  \u001b[1mmix_integral.lengthscale\u001b[0;0m  |  4.779965800449246  |      +ve      |        \n"
     ]
    },
    {
     "data": {
      "text/plain": [
       "Text(0.5, 1.0, 'Non-negative virtual points added')"
      ]
     },
     "execution_count": 6,
     "metadata": {},
     "output_type": "execute_result"
    },
    {
     "data": {
      "image/png": "[encoded data removed]",
      "text/plain": [
       "<Figure size 432x288 with 1 Axes>"
      ]
     },
     "metadata": {},
     "output_type": "display_data"
    }
   ],
   "source": [
    "#m,X,Y=run_demo(0)\n",
    "#plt.title('No non-negative virtual points')\n",
    "#plt.savefig('gaussian_likelihood.pdf')\n",
    "#plt.figure()\n",
    "m,X,Y=run_demo(13+1)\n",
    "plt.title('Non-negative virtual points added')\n",
    "#plt.savefig('probit_virtual_points.pdf')\n",
    "#plt.figure()\n",
    "#m,X,Y=run_demo(13*4+1,lengthscale=2)\n",
    "#plt.title('Non-negative virtual points, short lengthscale')\n",
    "#plt.savefig('shortlengthscale.pdf')"
   ]
  },
  {
   "cell_type": "code",
   "execution_count": 6,
   "metadata": {},
   "outputs": [
    {
     "name": "stdout",
     "output_type": "stream",
     "text": [
      "> \u001b[0;32m/home/mike/anaconda3/lib/python3.6/site-packages/GPy/likelihoods/bernoulli.py\u001b[0m(81)\u001b[0;36mmoments_match_ep\u001b[0;34m()\u001b[0m\n",
      "\u001b[0;32m     79 \u001b[0;31m        \u001b[0;32melse\u001b[0m\u001b[0;34m:\u001b[0m\u001b[0;34m\u001b[0m\u001b[0;34m\u001b[0m\u001b[0m\n",
      "\u001b[0m\u001b[0;32m     80 \u001b[0;31m            \u001b[0;31m#TODO: do we want to revert to numerical quadrature here?\u001b[0m\u001b[0;34m\u001b[0m\u001b[0;34m\u001b[0m\u001b[0;34m\u001b[0m\u001b[0m\n",
      "\u001b[0m\u001b[0;32m---> 81 \u001b[0;31m            \u001b[0;32mraise\u001b[0m \u001b[0mValueError\u001b[0m\u001b[0;34m(\u001b[0m\u001b[0;34m\"Exact moment matching not available for link {}\"\u001b[0m\u001b[0;34m.\u001b[0m\u001b[0mformat\u001b[0m\u001b[0;34m(\u001b[0m\u001b[0mself\u001b[0m\u001b[0;34m.\u001b[0m\u001b[0mgp_link\u001b[0m\u001b[0;34m.\u001b[0m\u001b[0m__name__\u001b[0m\u001b[0;34m)\u001b[0m\u001b[0;34m)\u001b[0m\u001b[0;34m\u001b[0m\u001b[0;34m\u001b[0m\u001b[0m\n",
      "\u001b[0m\u001b[0;32m     82 \u001b[0;31m\u001b[0;34m\u001b[0m\u001b[0m\n",
      "\u001b[0m\u001b[0;32m     83 \u001b[0;31m        \u001b[0;31m# TODO: Output log_Z_hat instead of Z_hat (needs to be change in all others likelihoods)\u001b[0m\u001b[0;34m\u001b[0m\u001b[0;34m\u001b[0m\u001b[0;34m\u001b[0m\u001b[0m\n",
      "\u001b[0m\n",
      "ipdb> ll\n",
      "\u001b[1;32m     51 \u001b[0m    \u001b[0;32mdef\u001b[0m \u001b[0mmoments_match_ep\u001b[0m\u001b[0;34m(\u001b[0m\u001b[0mself\u001b[0m\u001b[0;34m,\u001b[0m \u001b[0mY_i\u001b[0m\u001b[0;34m,\u001b[0m \u001b[0mtau_i\u001b[0m\u001b[0;34m,\u001b[0m \u001b[0mv_i\u001b[0m\u001b[0;34m,\u001b[0m \u001b[0mY_metadata_i\u001b[0m\u001b[0;34m=\u001b[0m\u001b[0;32mNone\u001b[0m\u001b[0;34m)\u001b[0m\u001b[0;34m:\u001b[0m\u001b[0;34m\u001b[0m\u001b[0;34m\u001b[0m\u001b[0m\n",
      "\u001b[1;32m     52 \u001b[0m        \"\"\"\n",
      "\u001b[1;32m     53 \u001b[0m        \u001b[0mMoments\u001b[0m \u001b[0mmatch\u001b[0m \u001b[0mof\u001b[0m \u001b[0mthe\u001b[0m \u001b[0mmarginal\u001b[0m \u001b[0mapproximation\u001b[0m \u001b[0;32min\u001b[0m \u001b[0mEP\u001b[0m \u001b[0malgorithm\u001b[0m\u001b[0;34m\u001b[0m\u001b[0;34m\u001b[0m\u001b[0m\n",
      "\u001b[1;32m     54 \u001b[0m\u001b[0;34m\u001b[0m\u001b[0m\n",
      "\u001b[1;32m     55 \u001b[0m        \u001b[0;34m:\u001b[0m\u001b[0mparam\u001b[0m \u001b[0mi\u001b[0m\u001b[0;34m:\u001b[0m \u001b[0mnumber\u001b[0m \u001b[0mof\u001b[0m \u001b[0mobservation\u001b[0m \u001b[0;34m(\u001b[0m\u001b[0mint\u001b[0m\u001b[0;34m)\u001b[0m\u001b[0;34m\u001b[0m\u001b[0;34m\u001b[0m\u001b[0m\n",
      "\u001b[1;32m     56 \u001b[0m        \u001b[0;34m:\u001b[0m\u001b[0mparam\u001b[0m \u001b[0mtau_i\u001b[0m\u001b[0;34m:\u001b[0m \u001b[0mprecision\u001b[0m \u001b[0mof\u001b[0m \u001b[0mthe\u001b[0m \u001b[0mcavity\u001b[0m \u001b[0mdistribution\u001b[0m \u001b[0;34m(\u001b[0m\u001b[0mfloat\u001b[0m\u001b[0;34m)\u001b[0m\u001b[0;34m\u001b[0m\u001b[0;34m\u001b[0m\u001b[0m\n",
      "\u001b[1;32m     57 \u001b[0m        \u001b[0;34m:\u001b[0m\u001b[0mparam\u001b[0m \u001b[0mv_i\u001b[0m\u001b[0;34m:\u001b[0m \u001b[0mmean\u001b[0m\u001b[0;34m/\u001b[0m\u001b[0mvariance\u001b[0m \u001b[0mof\u001b[0m \u001b[0mthe\u001b[0m \u001b[0mcavity\u001b[0m \u001b[0mdistribution\u001b[0m \u001b[0;34m(\u001b[0m\u001b[0mfloat\u001b[0m\u001b[0;34m)\u001b[0m\u001b[0;34m\u001b[0m\u001b[0;34m\u001b[0m\u001b[0m\n",
      "\u001b[1;32m     58 \u001b[0m        \"\"\"\n",
      "\u001b[1;32m     59 \u001b[0m        \u001b[0;32mif\u001b[0m \u001b[0mY_i\u001b[0m \u001b[0;34m==\u001b[0m \u001b[0;36m1\u001b[0m\u001b[0;34m:\u001b[0m\u001b[0;34m\u001b[0m\u001b[0;34m\u001b[0m\u001b[0m\n",
      "\u001b[1;32m     60 \u001b[0m            \u001b[0msign\u001b[0m \u001b[0;34m=\u001b[0m \u001b[0;36m1.\u001b[0m\u001b[0;34m\u001b[0m\u001b[0;34m\u001b[0m\u001b[0m\n",
      "\u001b[1;32m     61 \u001b[0m        \u001b[0;32melif\u001b[0m \u001b[0mY_i\u001b[0m \u001b[0;34m==\u001b[0m \u001b[0;36m0\u001b[0m \u001b[0;32mor\u001b[0m \u001b[0mY_i\u001b[0m \u001b[0;34m==\u001b[0m \u001b[0;34m-\u001b[0m\u001b[0;36m1\u001b[0m\u001b[0;34m:\u001b[0m\u001b[0;34m\u001b[0m\u001b[0;34m\u001b[0m\u001b[0m\n",
      "\u001b[1;32m     62 \u001b[0m            \u001b[0msign\u001b[0m \u001b[0;34m=\u001b[0m \u001b[0;34m-\u001b[0m\u001b[0;36m1\u001b[0m\u001b[0;34m\u001b[0m\u001b[0;34m\u001b[0m\u001b[0m\n",
      "\u001b[1;32m     63 \u001b[0m        \u001b[0;32melse\u001b[0m\u001b[0;34m:\u001b[0m\u001b[0;34m\u001b[0m\u001b[0;34m\u001b[0m\u001b[0m\n",
      "\u001b[1;32m     64 \u001b[0m            \u001b[0;32mraise\u001b[0m \u001b[0mValueError\u001b[0m\u001b[0;34m(\u001b[0m\u001b[0;34m\"bad value for Bernoulli observation (0, 1)\"\u001b[0m\u001b[0;34m)\u001b[0m\u001b[0;34m\u001b[0m\u001b[0;34m\u001b[0m\u001b[0m\n",
      "\u001b[1;32m     65 \u001b[0m        \u001b[0;32mif\u001b[0m \u001b[0misinstance\u001b[0m\u001b[0;34m(\u001b[0m\u001b[0mself\u001b[0m\u001b[0;34m.\u001b[0m\u001b[0mgp_link\u001b[0m\u001b[0;34m,\u001b[0m \u001b[0mlink_functions\u001b[0m\u001b[0;34m.\u001b[0m\u001b[0mProbit\u001b[0m\u001b[0;34m)\u001b[0m\u001b[0;34m:\u001b[0m\u001b[0;34m\u001b[0m\u001b[0;34m\u001b[0m\u001b[0m\n",
      "\u001b[1;32m     66 \u001b[0m            \u001b[0mz\u001b[0m \u001b[0;34m=\u001b[0m \u001b[0msign\u001b[0m\u001b[0;34m*\u001b[0m\u001b[0mv_i\u001b[0m\u001b[0;34m/\u001b[0m\u001b[0mnp\u001b[0m\u001b[0;34m.\u001b[0m\u001b[0msqrt\u001b[0m\u001b[0;34m(\u001b[0m\u001b[0mtau_i\u001b[0m\u001b[0;34m**\u001b[0m\u001b[0;36m2\u001b[0m \u001b[0;34m+\u001b[0m \u001b[0mtau_i\u001b[0m\u001b[0;34m)\u001b[0m\u001b[0;34m\u001b[0m\u001b[0;34m\u001b[0m\u001b[0m\n",
      "\u001b[1;32m     67 \u001b[0m            \u001b[0mphi_div_Phi\u001b[0m \u001b[0;34m=\u001b[0m \u001b[0mderivLogCdfNormal\u001b[0m\u001b[0;34m(\u001b[0m\u001b[0mz\u001b[0m\u001b[0;34m)\u001b[0m\u001b[0;34m\u001b[0m\u001b[0;34m\u001b[0m\u001b[0m\n",
      "\u001b[1;32m     68 \u001b[0m            \u001b[0mlog_Z_hat\u001b[0m \u001b[0;34m=\u001b[0m \u001b[0mlogCdfNormal\u001b[0m\u001b[0;34m(\u001b[0m\u001b[0mz\u001b[0m\u001b[0;34m)\u001b[0m\u001b[0;34m\u001b[0m\u001b[0;34m\u001b[0m\u001b[0m\n",
      "\u001b[1;32m     69 \u001b[0m\u001b[0;34m\u001b[0m\u001b[0m\n",
      "\u001b[1;32m     70 \u001b[0m            \u001b[0mmu_hat\u001b[0m \u001b[0;34m=\u001b[0m \u001b[0mv_i\u001b[0m\u001b[0;34m/\u001b[0m\u001b[0mtau_i\u001b[0m \u001b[0;34m+\u001b[0m \u001b[0msign\u001b[0m\u001b[0;34m*\u001b[0m\u001b[0mphi_div_Phi\u001b[0m\u001b[0;34m/\u001b[0m\u001b[0mnp\u001b[0m\u001b[0;34m.\u001b[0m\u001b[0msqrt\u001b[0m\u001b[0;34m(\u001b[0m\u001b[0mtau_i\u001b[0m\u001b[0;34m**\u001b[0m\u001b[0;36m2\u001b[0m \u001b[0;34m+\u001b[0m \u001b[0mtau_i\u001b[0m\u001b[0;34m)\u001b[0m\u001b[0;34m\u001b[0m\u001b[0;34m\u001b[0m\u001b[0m\n",
      "\u001b[1;32m     71 \u001b[0m            \u001b[0msigma2_hat\u001b[0m \u001b[0;34m=\u001b[0m \u001b[0;36m1.\u001b[0m\u001b[0;34m/\u001b[0m\u001b[0mtau_i\u001b[0m \u001b[0;34m-\u001b[0m \u001b[0;34m(\u001b[0m\u001b[0mphi_div_Phi\u001b[0m\u001b[0;34m/\u001b[0m\u001b[0;34m(\u001b[0m\u001b[0mtau_i\u001b[0m\u001b[0;34m**\u001b[0m\u001b[0;36m2\u001b[0m\u001b[0;34m+\u001b[0m\u001b[0mtau_i\u001b[0m\u001b[0;34m)\u001b[0m\u001b[0;34m)\u001b[0m\u001b[0;34m*\u001b[0m\u001b[0;34m(\u001b[0m\u001b[0mz\u001b[0m\u001b[0;34m+\u001b[0m\u001b[0mphi_div_Phi\u001b[0m\u001b[0;34m)\u001b[0m\u001b[0;34m\u001b[0m\u001b[0;34m\u001b[0m\u001b[0m\n",
      "\u001b[1;32m     72 \u001b[0m\u001b[0;34m\u001b[0m\u001b[0m\n",
      "\u001b[1;32m     73 \u001b[0m        \u001b[0;32melif\u001b[0m \u001b[0misinstance\u001b[0m\u001b[0;34m(\u001b[0m\u001b[0mself\u001b[0m\u001b[0;34m.\u001b[0m\u001b[0mgp_link\u001b[0m\u001b[0;34m,\u001b[0m \u001b[0mlink_functions\u001b[0m\u001b[0;34m.\u001b[0m\u001b[0mHeaviside\u001b[0m\u001b[0;34m)\u001b[0m\u001b[0;34m:\u001b[0m\u001b[0;34m\u001b[0m\u001b[0;34m\u001b[0m\u001b[0m\n",
      "\u001b[1;32m     74 \u001b[0m            \u001b[0mz\u001b[0m \u001b[0;34m=\u001b[0m \u001b[0msign\u001b[0m\u001b[0;34m*\u001b[0m\u001b[0mv_i\u001b[0m\u001b[0;34m/\u001b[0m\u001b[0mnp\u001b[0m\u001b[0;34m.\u001b[0m\u001b[0msqrt\u001b[0m\u001b[0;34m(\u001b[0m\u001b[0mtau_i\u001b[0m\u001b[0;34m)\u001b[0m\u001b[0;34m\u001b[0m\u001b[0;34m\u001b[0m\u001b[0m\n",
      "\u001b[1;32m     75 \u001b[0m            \u001b[0mphi_div_Phi\u001b[0m \u001b[0;34m=\u001b[0m \u001b[0mderivLogCdfNormal\u001b[0m\u001b[0;34m(\u001b[0m\u001b[0mz\u001b[0m\u001b[0;34m)\u001b[0m\u001b[0;34m\u001b[0m\u001b[0;34m\u001b[0m\u001b[0m\n",
      "\u001b[1;32m     76 \u001b[0m            \u001b[0mlog_Z_hat\u001b[0m \u001b[0;34m=\u001b[0m \u001b[0mlogCdfNormal\u001b[0m\u001b[0;34m(\u001b[0m\u001b[0mz\u001b[0m\u001b[0;34m)\u001b[0m\u001b[0;34m\u001b[0m\u001b[0;34m\u001b[0m\u001b[0m\n",
      "\u001b[1;32m     77 \u001b[0m            \u001b[0mmu_hat\u001b[0m \u001b[0;34m=\u001b[0m \u001b[0mv_i\u001b[0m\u001b[0;34m/\u001b[0m\u001b[0mtau_i\u001b[0m \u001b[0;34m+\u001b[0m \u001b[0msign\u001b[0m\u001b[0;34m*\u001b[0m\u001b[0mphi_div_Phi\u001b[0m\u001b[0;34m/\u001b[0m\u001b[0mnp\u001b[0m\u001b[0;34m.\u001b[0m\u001b[0msqrt\u001b[0m\u001b[0;34m(\u001b[0m\u001b[0mtau_i\u001b[0m\u001b[0;34m)\u001b[0m\u001b[0;34m\u001b[0m\u001b[0;34m\u001b[0m\u001b[0m\n",
      "\u001b[1;32m     78 \u001b[0m            \u001b[0msigma2_hat\u001b[0m \u001b[0;34m=\u001b[0m \u001b[0;34m(\u001b[0m\u001b[0;36m1.\u001b[0m \u001b[0;34m-\u001b[0m \u001b[0ma\u001b[0m\u001b[0;34m*\u001b[0m\u001b[0mphi_div_Phi\u001b[0m \u001b[0;34m-\u001b[0m \u001b[0mnp\u001b[0m\u001b[0;34m.\u001b[0m\u001b[0msquare\u001b[0m\u001b[0;34m(\u001b[0m\u001b[0mphi_div_Phi\u001b[0m\u001b[0;34m)\u001b[0m\u001b[0;34m)\u001b[0m\u001b[0;34m/\u001b[0m\u001b[0mtau_i\u001b[0m\u001b[0;34m\u001b[0m\u001b[0;34m\u001b[0m\u001b[0m\n",
      "\u001b[1;32m     79 \u001b[0m        \u001b[0;32melse\u001b[0m\u001b[0;34m:\u001b[0m\u001b[0;34m\u001b[0m\u001b[0;34m\u001b[0m\u001b[0m\n",
      "\u001b[1;32m     80 \u001b[0m            \u001b[0;31m#TODO: do we want to revert to numerical quadrature here?\u001b[0m\u001b[0;34m\u001b[0m\u001b[0;34m\u001b[0m\u001b[0;34m\u001b[0m\u001b[0m\n",
      "\u001b[0;32m---> 81 \u001b[0;31m            \u001b[0;32mraise\u001b[0m \u001b[0mValueError\u001b[0m\u001b[0;34m(\u001b[0m\u001b[0;34m\"Exact moment matching not available for link {}\"\u001b[0m\u001b[0;34m.\u001b[0m\u001b[0mformat\u001b[0m\u001b[0;34m(\u001b[0m\u001b[0mself\u001b[0m\u001b[0;34m.\u001b[0m\u001b[0mgp_link\u001b[0m\u001b[0;34m.\u001b[0m\u001b[0m__name__\u001b[0m\u001b[0;34m)\u001b[0m\u001b[0;34m)\u001b[0m\u001b[0;34m\u001b[0m\u001b[0;34m\u001b[0m\u001b[0m\n",
      "\u001b[0m\u001b[1;32m     82 \u001b[0m\u001b[0;34m\u001b[0m\u001b[0m\n",
      "\u001b[1;32m     83 \u001b[0m        \u001b[0;31m# TODO: Output log_Z_hat instead of Z_hat (needs to be change in all others likelihoods)\u001b[0m\u001b[0;34m\u001b[0m\u001b[0;34m\u001b[0m\u001b[0;34m\u001b[0m\u001b[0m\n",
      "\u001b[1;32m     84 \u001b[0m        \u001b[0;32mreturn\u001b[0m \u001b[0mnp\u001b[0m\u001b[0;34m.\u001b[0m\u001b[0mexp\u001b[0m\u001b[0;34m(\u001b[0m\u001b[0mlog_Z_hat\u001b[0m\u001b[0;34m)\u001b[0m\u001b[0;34m,\u001b[0m \u001b[0mmu_hat\u001b[0m\u001b[0;34m,\u001b[0m \u001b[0msigma2_hat\u001b[0m\u001b[0;34m\u001b[0m\u001b[0;34m\u001b[0m\u001b[0m\n",
      "\u001b[1;32m     85 \u001b[0m\u001b[0;34m\u001b[0m\u001b[0m\n",
      "\n",
      "ipdb> self.gp_link\n",
      "<shiftedprobit.TestProbit object at 0x7f380375da58>\n",
      "ipdb> self.gp_link.__name__\n",
      "*** AttributeError: 'TestProbit' object has no attribute '__name__'\n",
      "ipdb> q\n"
     ]
    }
   ],
   "source": [
    "debug"
   ]
  },
  {
   "cell_type": "code",
   "execution_count": 13,
   "metadata": {},
   "outputs": [
    {
     "name": "stdout",
     "output_type": "stream",
     "text": [
      "> \u001b[0;32m/home/mike/anaconda3/lib/python3.6/site-packages/GPy/inference/latent_function_inference/expectation_propagation.py\u001b[0m(309)\u001b[0;36m_local_updates\u001b[0;34m()\u001b[0m\n",
      "\u001b[0;32m    307 \u001b[0;31m                    \u001b[0mY_metadata_i\u001b[0m \u001b[0;34m=\u001b[0m \u001b[0;34m{\u001b[0m\u001b[0;34m}\u001b[0m\u001b[0;34m\u001b[0m\u001b[0;34m\u001b[0m\u001b[0m\n",
      "\u001b[0m\u001b[0;32m    308 \u001b[0;31m                    \u001b[0;32mfor\u001b[0m \u001b[0mkey\u001b[0m \u001b[0;32min\u001b[0m \u001b[0mY_metadata\u001b[0m\u001b[0;34m.\u001b[0m\u001b[0mkeys\u001b[0m\u001b[0;34m(\u001b[0m\u001b[0;34m)\u001b[0m\u001b[0;34m:\u001b[0m\u001b[0;34m\u001b[0m\u001b[0;34m\u001b[0m\u001b[0m\n",
      "\u001b[0m\u001b[0;32m--> 309 \u001b[0;31m                        \u001b[0mY_metadata_i\u001b[0m\u001b[0;34m[\u001b[0m\u001b[0mkey\u001b[0m\u001b[0;34m]\u001b[0m \u001b[0;34m=\u001b[0m \u001b[0mY_metadata\u001b[0m\u001b[0;34m[\u001b[0m\u001b[0mkey\u001b[0m\u001b[0;34m]\u001b[0m\u001b[0;34m[\u001b[0m\u001b[0mi\u001b[0m\u001b[0;34m,\u001b[0m \u001b[0;34m:\u001b[0m\u001b[0;34m]\u001b[0m\u001b[0;34m\u001b[0m\u001b[0;34m\u001b[0m\u001b[0m\n",
      "\u001b[0m\u001b[0;32m    310 \u001b[0;31m                \u001b[0;32melse\u001b[0m\u001b[0;34m:\u001b[0m\u001b[0;34m\u001b[0m\u001b[0;34m\u001b[0m\u001b[0m\n",
      "\u001b[0m\u001b[0;32m    311 \u001b[0;31m                    \u001b[0mY_metadata_i\u001b[0m \u001b[0;34m=\u001b[0m \u001b[0;32mNone\u001b[0m\u001b[0;34m\u001b[0m\u001b[0;34m\u001b[0m\u001b[0m\n",
      "\u001b[0m\n",
      "ipdb> Y_metadata_i\n",
      "{'likelihood_fn_index': array([0])}\n",
      "ipdb> q\n"
     ]
    }
   ],
   "source": [
    "debug"
   ]
  },
  {
   "cell_type": "code",
   "execution_count": 15,
   "metadata": {},
   "outputs": [
    {
     "name": "stdout",
     "output_type": "stream",
     "text": [
      "Running L-BFGS-B (Scipy implementation) Code:\n",
      "  runtime   i      f              |g|        \n",
      "    00s15  0001   4.422759e+01   9.453480e+00 \n",
      "    02s36  0016   4.155409e+01   5.460595e-02 \n",
      "    04s48  0028   4.139148e+01   2.693511e-09 \n",
      "Runtime:     04s48\n",
      "Optimization status: Converged\n",
      "\n",
      "\n",
      "Name : gp\n",
      "Objective : 41.39147932416017\n",
      "Number of Parameters : 2\n",
      "Number of Optimization Parameters : 2\n",
      "Updates : True\n",
      "Parameters:\n",
      "  \u001b[1mgp.                     \u001b[0;0m  |              value  |  constraints  |  priors\n",
      "  \u001b[1mmix_integral.variances  \u001b[0;0m  |  512.7248627622625  |      +ve      |        \n",
      "  \u001b[1mmix_integral.lengthscale\u001b[0;0m  |  4.409154149163536  |      +ve      |        \n",
      "1.0\n",
      "1.0\n",
      "1.0\n",
      "1.0\n"
     ]
    },
    {
     "data": {
      "image/png": "[encoded data removed]",
      "text/plain": [
       "<Figure size 216x144 with 1 Axes>"
      ]
     },
     "metadata": {},
     "output_type": "display_data"
    }
   ],
   "source": [
    "plt.figure(figsize=[3,2])\n",
    "plt.savefig('probit_virtual_points_inset.pdf')\n",
    "m=run_demo(13*4+1,xlim=[16,19],ylim=[-3,12])"
   ]
  },
  {
   "cell_type": "code",
   "execution_count": null,
   "metadata": {},
   "outputs": [],
   "source": []
  }
 ],
 "metadata": {
  "kernelspec": {
   "display_name": "Python 3",
   "language": "python",
   "name": "python3"
  },
  "language_info": {
   "codemirror_mode": {
    "name": "ipython",
    "version": 3
   },
   "file_extension": ".py",
   "mimetype": "text/x-python",
   "name": "python",
   "nbconvert_exporter": "python",
   "pygments_lexer": "ipython3",
   "version": "3.6.8"
  }
 },
 "nbformat": 4,
 "nbformat_minor": 2
}
